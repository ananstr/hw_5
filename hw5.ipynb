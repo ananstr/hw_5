{
 "cells": [
  {
   "cell_type": "markdown",
   "metadata": {},
   "source": [
    "### 1. Patient Class"
   ]
  },
  {
   "cell_type": "code",
   "execution_count": 7,
   "metadata": {},
   "outputs": [
    {
     "name": "stdout",
     "output_type": "stream",
     "text": [
      "0.99\n"
     ]
    }
   ],
   "source": [
    "# 1.1) Create a Patient class with attributes name and symptoms\n",
    "        \n",
    "class Patient:\n",
    "    def __init__(self, name, symptoms):\n",
    "        self.name = name\n",
    "        self.symptoms = symptoms\n",
    "        self.tests = {}\n",
    "        self.covid_probability = 0.05\n",
    "\n",
    "# 1.2) Method to add test results\n",
    "    def add_test(self, test_name, test_result):\n",
    "        self.tests[test_name] = test_result\n",
    "        if test_name == \"covid\" and test_result:\n",
    "            self.covid_probability = 0.99\n",
    "        elif test_name == \"covid\" and not test_result:\n",
    "            self.covid_probability = 0.01\n",
    "        else:\n",
    "            for symptom in ['fever', 'cough', 'anosmia']:\n",
    "                if symptom in self.symptoms:\n",
    "                    self.covid_probability += 0.1\n",
    "                    \n",
    "# 1.3) Method to check for the probability of having Covid\n",
    "    def has_covid(self):\n",
    "        return self.covid_probability"
   ]
  },
  {
   "cell_type": "markdown",
   "metadata": {},
   "source": [
    "### 2. Card and Deck Class"
   ]
  },
  {
   "cell_type": "code",
   "execution_count": 10,
   "metadata": {},
   "outputs": [],
   "source": [
    "\n",
    "import random\n",
    "\n",
    "# 2.1) Create Card class with suit and value attributes\n",
    "class Card:\n",
    "    def __init__(self, suit, value):\n",
    "        self.suit = suit\n",
    "        self.value = value\n",
    "\n",
    "# 2.2) Create Deck class with cards attribute\n",
    "class Deck:\n",
    "    def __init__(self):\n",
    "        self.cards = []\n",
    "        suits = ['Hearts', 'Diamonds', 'Clubs', 'Spades']\n",
    "        values = ['A', '2', '3', '4', '5', '6', '7', '8', '9', '10', 'J', 'Q', 'K']\n",
    "        for suit in suits:\n",
    "            for value in values:\n",
    "                self.cards.append(Card(suit, value))\n",
    "\n",
    "# Method to shuffle the deck\n",
    "    def shuffle(self): \n",
    "        random.shuffle(self.cards)\n",
    "\n",
    "# Method to draw a card\n",
    "    def draw(self):\n",
    "        if len(self.cards) == 0:\n",
    "            print(\"Deck is empty.\")\n",
    "        else:\n",
    "            card = self.cards.pop()\n",
    "            print(f\"Suit: {card.suit}, Value: {card.value}\")"
   ]
  },
  {
   "cell_type": "markdown",
   "metadata": {},
   "source": [
    "### 3. PlaneFigure Class"
   ]
  },
  {
   "cell_type": "code",
   "execution_count": 11,
   "metadata": {},
   "outputs": [],
   "source": [
    "class PlaneFigure:\n",
    "    def compute_perimeter(self):\n",
    "        raise NotImplementedError()\n",
    "\n",
    "    def compute_surface(self):\n",
    "        raise NotImplementedError()\n",
    "\n",
    "class Triangle(PlaneFigure):\n",
    "    def __init__(self, base, c1, c2, h):\n",
    "        self.base = base\n",
    "        self.c1 = c1\n",
    "        self.c2 = c2\n",
    "        self.h = h\n",
    "\n",
    "    def compute_perimeter(self):\n",
    "        return self.base + self.c1 + self.c2\n",
    "\n",
    "    def compute_surface(self):\n",
    "        return 0.5 * self.base * self.h\n",
    "\n",
    "class Rectangle(PlaneFigure):\n",
    "    def __init__(self, a, b):\n",
    "        self.a = a\n",
    "        self.b = b\n",
    "\n",
    "    def compute_perimeter(self):\n",
    "        return 2 * (self.a + self.b)\n",
    "\n",
    "    def compute_surface(self):\n",
    "        return self.a * self.b\n",
    "\n",
    "class Circle(PlaneFigure):\n",
    "    def __init__(self, radius):\n",
    "        self.radius = radius\n",
    "\n",
    "    def compute_perimeter(self):\n",
    "        return 2 * np.pi * self.radius\n",
    "\n",
    "    def compute_surface(self):\n",
    "        return np.pi * self.radius**2"
   ]
  },
  {
   "cell_type": "code",
   "execution_count": 15,
   "metadata": {},
   "outputs": [],
   "source": [
    "from abc import ABC, abstractmethod\n",
    "import math\n",
    "\n",
    "# 3.1) Abstract class PlaneFigure with two abstract methods\n",
    "class PlaneFigure(ABC):\n",
    "    @abstractmethod\n",
    "    def compute_perimeter(self):\n",
    "        pass\n",
    "    \n",
    "    @abstractmethod\n",
    "    def compute_surface(self):\n",
    "        pass\n",
    "\n",
    "# 3.2) Triangle class inheriting from PlaneFigure\n",
    "class Triangle(PlaneFigure):\n",
    "    def __init__(self, base: float, c1: float, c2: float, height: float):\n",
    "        self.base = base\n",
    "        self.c1 = c1\n",
    "        self.c2 = c2\n",
    "        self.height = height\n",
    "    \n",
    "    def compute_perimeter(self):\n",
    "        return self.base + self.c1 + self.c2\n",
    "    \n",
    "    def compute_surface(self):\n",
    "        return 0.5 * self.base * self.height\n",
    "\n",
    "# 3.3) Rectangle class inheriting from PlaneFigure\n",
    "class Rectangle(PlaneFigure):\n",
    "    def __init__(self, a: float, b: float):\n",
    "        self.a = a\n",
    "        self.b = b\n",
    "    \n",
    "    def compute_perimeter(self):\n",
    "        return 2 * (self.a + self.b)\n",
    "    \n",
    "    def compute_surface(self):\n",
    "        return self.a * self.b\n",
    "\n",
    "# 3.4) Circle class inheriting from PlaneFigure\n",
    "class Circle(PlaneFigure):\n",
    "    def __init__(self, radius: float):\n",
    "        self.radius = radius\n",
    "    \n",
    "    def compute_perimeter(self):\n",
    "        return 2 * math.pi * self.radius\n",
    "    \n",
    "    def compute_surface(self):\n",
    "        return math.pi * (self.radius ** 2)"
   ]
  },
  {
   "cell_type": "code",
   "execution_count": 16,
   "metadata": {},
   "outputs": [
    {
     "name": "stdout",
     "output_type": "stream",
     "text": [
      "12\n",
      "3.0\n",
      "18\n",
      "20\n",
      "31.41592653589793\n",
      "78.53981633974483\n"
     ]
    }
   ],
   "source": [
    "# Example usage:\n",
    "triangle = Triangle(3, 4, 5, 2)\n",
    "print(triangle.compute_perimeter())  # Outputs perimeter\n",
    "print(triangle.compute_surface())    # Outputs surface area\n",
    "\n",
    "rectangle = Rectangle(4, 5)\n",
    "print(rectangle.compute_perimeter())  # Outputs perimeter\n",
    "print(rectangle.compute_surface())    # Outputs surface area\n",
    "\n",
    "circle = Circle(5)\n",
    "print(circle.compute_perimeter())     # Outputs perimeter\n",
    "print(circle.compute_surface())       # Outputs surface area"
   ]
  }
 ],
 "metadata": {
  "kernelspec": {
   "display_name": "base",
   "language": "python",
   "name": "python3"
  },
  "language_info": {
   "codemirror_mode": {
    "name": "ipython",
    "version": 3
   },
   "file_extension": ".py",
   "mimetype": "text/x-python",
   "name": "python",
   "nbconvert_exporter": "python",
   "pygments_lexer": "ipython3",
   "version": "3.11.7"
  }
 },
 "nbformat": 4,
 "nbformat_minor": 2
}
