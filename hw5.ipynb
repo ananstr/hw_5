{
 "cells": [
  {
   "cell_type": "markdown",
   "metadata": {},
   "source": [
    "### 1. Patient Class"
   ]
  },
  {
   "cell_type": "code",
   "execution_count": 1,
   "metadata": {},
   "outputs": [],
   "source": [
    "class Patient:\n",
    "    def __init__(self, name:str, symptoms:list[str]):\n",
    "        self.name = name\n",
    "        self.symptoms = symptoms\n",
    "        self.test = []\n",
    "        self.covid_prob = 0\n",
    "        \n",
    "    def add_test(self, test_name:str, test_results:bool):\n",
    "        self.test_tuple = (test_name, test_results)\n",
    "        self.test.append(self.test_tuple)  \n",
    "        \n",
    "    def has_covid(self):\n",
    "        self.relevant_symptoms = ['fever', 'cough', 'anosmia']\n",
    "        for i in self.test:\n",
    "            if i[0] == 'covid' and i[1] == True:\n",
    "                self.covid_prob = 0.99\n",
    "                return self.covid_prob\n",
    "            \n",
    "            if i[0] == 'covid' and i[1] == False:\n",
    "                self.covid_prob = 0.01\n",
    "                return self.covid_prob\n",
    "            \n",
    "            if any(symptom in self.symptoms for symptom in self.relevant_symptoms):\n",
    "                self.covid_prob = 0.05 \n",
    "                self.covid_symptoms_counter = 0\n",
    "                \n",
    "                for symptom in self.symptoms:\n",
    "                    if symptom in self.relevant_symptoms:\n",
    "                        self.covid_symptoms_counter += 1\n",
    "                self.covid_prob += 0.1 * self.covid_symptoms_counter\n",
    "                \n",
    "        return self.covid_prob "
   ]
  },
  {
   "cell_type": "markdown",
   "metadata": {},
   "source": [
    "### 2. Card and Deck Class"
   ]
  },
  {
   "cell_type": "code",
   "execution_count": 75,
   "metadata": {},
   "outputs": [],
   "source": [
    "\n",
    "import random\n",
    "\n",
    "# 2.1) Create Card class with suit and value attributes\n",
    "class Card:\n",
    "    def __init__(self, suit, value):\n",
    "        self.suit = suit\n",
    "        self.value = value\n",
    "\n",
    "# 2.2) Create Deck class with cards attribute\n",
    "class Deck:\n",
    "    def __init__(self):\n",
    "        self.cards = []\n",
    "        suits = ['Hearts', 'Diamonds', 'Clubs', 'Spades']\n",
    "        values = ['A', '2', '3', '4', '5', '6', '7', '8', '9', '10', 'J', 'Q', 'K']\n",
    "        for suit in suits:\n",
    "            for value in values:\n",
    "                self.cards.append(Card(suit, value))\n",
    "\n",
    "# Method to shuffle the deck\n",
    "    def shuffle(self): \n",
    "        random.shuffle(self.cards)\n",
    "\n",
    "# Method to draw a card\n",
    "    def draw(self):\n",
    "        if len(self.cards) == 0:\n",
    "            print(\"Deck is empty.\")\n",
    "        else:\n",
    "            card = self.cards.pop()\n",
    "            print(f\"Suit: {card.suit}, Value: {card.value}\")"
   ]
  },
  {
   "cell_type": "markdown",
   "metadata": {},
   "source": [
    "### 3. PlaneFigure Class"
   ]
  },
  {
   "cell_type": "code",
   "execution_count": 6,
   "metadata": {},
   "outputs": [],
   "source": [
    "from abc import ABC, abstractmethod\n",
    "import math\n",
    "\n",
    "# 3.1) Abstract class PlaneFigure with two abstract methods\n",
    "class PlaneFigure(ABC):\n",
    "    @abstractmethod\n",
    "    def compute_perimeter(self):\n",
    "        pass\n",
    "    \n",
    "    @abstractmethod\n",
    "    def compute_surface(self):\n",
    "        pass\n",
    "\n",
    "# 3.2) Triangle class inheriting from PlaneFigure\n",
    "class Triangle(PlaneFigure):\n",
    "    def __init__(self, base: float, c1: float, c2: float, height: float):\n",
    "        self.base = base\n",
    "        self.c1 = c1\n",
    "        self.c2 = c2\n",
    "        self.height = height\n",
    "    \n",
    "    def compute_perimeter(self):\n",
    "        return self.base + self.c1 + self.c2\n",
    "    \n",
    "    def compute_surface(self):\n",
    "        return 0.5 * self.base * self.height\n",
    "\n",
    "# 3.3) Rectangle class inheriting from PlaneFigure\n",
    "class Rectangle(PlaneFigure):\n",
    "    def __init__(self, a: float, b: float):\n",
    "        self.a = a\n",
    "        self.b = b\n",
    "    \n",
    "    def compute_perimeter(self):\n",
    "        return 2 * (self.a + self.b)\n",
    "    \n",
    "    def compute_surface(self):\n",
    "        return self.a * self.b\n",
    "\n",
    "# 3.4) Circle class inheriting from PlaneFigure\n",
    "class Circle(PlaneFigure):\n",
    "    def __init__(self, radius: float):\n",
    "        self.radius = radius\n",
    "    \n",
    "    def compute_perimeter(self):\n",
    "        return 2 * math.pi * self.radius\n",
    "    \n",
    "    def compute_surface(self):\n",
    "        return math.pi * (self.radius ** 2)"
   ]
  }
 ],
 "metadata": {
  "kernelspec": {
   "display_name": "brushup_env",
   "language": "python",
   "name": "python3"
  },
  "language_info": {
   "codemirror_mode": {
    "name": "ipython",
    "version": 3
   },
   "file_extension": ".py",
   "mimetype": "text/x-python",
   "name": "python",
   "nbconvert_exporter": "python",
   "pygments_lexer": "ipython3",
   "version": "3.12.5"
  }
 },
 "nbformat": 4,
 "nbformat_minor": 2
}
